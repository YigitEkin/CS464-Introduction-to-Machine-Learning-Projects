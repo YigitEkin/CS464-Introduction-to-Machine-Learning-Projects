{
  "cells": [
    {
      "cell_type": "markdown",
      "metadata": {
        "id": "YmlJ7FFJGA3k"
      },
      "source": [
        "**<h1><center>CS 464</center></h1>**\n",
        "**<h1><center>Introduction to Machine Learning</center></h1>**\n",
        "**<h1><center>Spring 2022</center></h1>**\n",
        "**<h1><center>Homework 3</center></h1>**\n",
        "<h4><center>Due: DEC 23, 2022 23:59 (GMT+3)</center></h4>"
      ]
    },
    {
      "cell_type": "markdown",
      "metadata": {
        "id": "LxSgl3smH_qk"
      },
      "source": [
        "In this third homework assignment, you are asked to develop a system that can be used to supply additional information to weather forecasts. For this task, you are provided a dataset that consists of weather images that belong to four different weather conditions: [cloudy, rain, shiny, sunrise]. Your model will classify images considering these class labels. \n",
        "\n",
        "For this assignment, **using PyTorch is mandatory.**\n",
        "\n",
        "**Tip:** You may experience latencies in file I/O if you are using Google Colab. In this regard, we recommend you upload your data to Google Drive as a zip file and unzip the folder contents in your drive. If you would like to upload the data files separately, it may take significant time.\n",
        "\n",
        "You will submit a single ipynb file as the homework submission. If you want to provide further explanation about your work, you can add Markdown cells to do so. [Here](https://www.markdownguide.org/), you can find a guide for Markdown syntax. Upload your homework with the following filename convention: \\<BilkentID\\>\\_\\<Name\\>\\_\\<Surname\\>.ipynb\n",
        "\n",
        "**Contact:**\n",
        "- [Yusuf Dalva](mailto:yusuf.dalva@bilkent.edu.tr)\n",
        "- [Ahmet Burak Yıldırım](mailto:a.yildirim@bilkent.edu.tr)\n",
        "\n",
        "**Dataset**<br>\n",
        "You can find the dataset [here](https://www.kaggle.com/datasets/pratik2901/multiclass-weather-dataset). \n"
      ]
    },
    {
      "cell_type": "markdown",
      "metadata": {
        "id": "kUQigqxM4JlE"
      },
      "source": [
        "# **Q1** [12 points]\n",
        "This part consists of 4 questions which you are expected to answer. Please fill in the following cell in Markdown format. Each question is worth 2 points."
      ]
    },
    {
      "attachments": {},
      "cell_type": "markdown",
      "metadata": {
        "id": "3ZcbkhwkbQ4m"
      },
      "source": [
        "a) Do we need to output the actual probability values when performing classification with the softmax layer? If not, how do these numbers represent the likelihood of classes? Also, does the output values should be in a specific range for us to make a classification? <br>\n",
        "\n",
        "No, we do not need to output the actual probability values. These values represent the probability that the model assigns the input to the relative class. We need to output the index of the maximum value as this will be the prediction of the model according to the given input. As the output is a probability, these values should be between [0,1]. <br>\n",
        "\n",
        "b) From the perspective of model complexity, how you can identify when a model underfits or overfits? Which plots are informative for detecting this behavior? <br>\n",
        "Your model is overfitting your training data when you see that the model performs well on the training data but does not perform well on the test data. Your model is underfitting the training data when the model performs poorly on the training data. Accuracy - number of epochs plot can be used to visualize them. For overfitting, if the accuracy values are increasing rapidly for the training data while that it not the case for the test data, then we can state that the model overfitted the training data. For underfitting, if the accuracy values are not increasing enough for the training data, we can say that the model underfits the training data.\n",
        "\n",
        "\n",
        "c) In neural networks, how does the ReLU function help us to generalize to complex feature spaces? Why we are not using linear layers only? <br>\n",
        "ReLU function does the following:\n",
        "<ul>\n",
        "<li>if the value is smaller than 0 set it to 0</li>\n",
        "<li>else keep the original value</li>\n",
        "</ul>\n",
        "This help us create a non-linear layer. In general, not all data is distributed linearly. Hence, using only linear layers can be insufficient. We can only detect linearly distributed input by using linear layers only. <br>\n",
        "\n",
        "d) Assume that you are going to pass the feature matrix with dimensions 64x64x5 (Height x Width x Channel size) through a convolutional layer. If our convolutional layer has a kernel size of 3x3 and the number of filters is 6, how many learnable parameters are present? <br>\n",
        "\n",
        "The number of learnable parameters is 6x3x3x5 + 6 = 456. <br>\n"
      ]
    },
    {
      "cell_type": "markdown",
      "metadata": {
        "id": "Qx_XrpE44TlW"
      },
      "source": [
        "# **Q2** [88 points]"
      ]
    },
    {
      "cell_type": "markdown",
      "metadata": {
        "id": "whvv0wjpDWC_"
      },
      "source": [
        "## Necessary Imports\n",
        "In the cell below, we import some utilities that you can make use of in this assignment. Note that you need to use PyTorch in this assignment. To report certain metrics (like precision, recall, accuracy) you may use utilities from *scikit-learn* library. You can edit these imports considering your implementation as long as you use PyTorch."
      ]
    },
    {
      "cell_type": "markdown",
      "metadata": {
        "id": "ByxehL1b4b2X"
      },
      "source": [
        "## Setup"
      ]
    },
    {
      "cell_type": "code",
      "execution_count": 3,
      "metadata": {
        "id": "Jk_nY5kj70sX"
      },
      "outputs": [],
      "source": [
        "import os \n",
        "import time\n",
        "import random\n",
        "from glob import glob\n",
        "\n",
        "import numpy as np\n",
        "from PIL import Image\n",
        "import matplotlib.pyplot as plt\n",
        "\n",
        "import torch\n",
        "from torch import optim\n",
        "import torch.nn as nn\n",
        "import torch.nn.functional as F\n",
        "import torchvision.models as models\n",
        "from torch.utils.data import Dataset, DataLoader\n",
        "\n",
        "from sklearn.model_selection import train_test_split\n",
        "from sklearn.metrics import confusion_matrix, f1_score, precision_score, recall_score, accuracy_score\n",
        "import seaborn as sns\n",
        "import pandas as pd"
      ]
    },
    {
      "cell_type": "markdown",
      "metadata": {
        "id": "yAve2XUl9spy"
      },
      "source": [
        "You can test whether hardware acceleration with GPU is enabled in the cell below. In addition, if you have GPU access, you can check the amount of available GPU memory."
      ]
    },
    {
      "cell_type": "code",
      "execution_count": 4,
      "metadata": {
        "id": "0XJ4Hihx5q-2"
      },
      "outputs": [
        {
          "name": "stdout",
          "output_type": "stream",
          "text": [
            "Using device: cpu\n"
          ]
        }
      ],
      "source": [
        "# setting device as GPU if available, else CPU\n",
        "device = torch.device('cuda' if torch.cuda.is_available() else 'cpu')\n",
        "print('Using device:', device)\n",
        "\n",
        "# CUDA device information\n",
        "if device.type == 'cuda':\n",
        "    print('GPU Name:', torch.cuda.get_device_name(0))\n",
        "    print('Memory Stats:')\n",
        "    print('  - Allocated:', round(torch.cuda.memory_allocated(0)/1024**3,1), 'GB')\n",
        "    print('  - Cached:   ', round(torch.cuda.memory_reserved(0)/1024**3,1), 'GB')\n",
        "    print('  - Total:    ', round(torch.cuda.get_device_properties(0).total_memory/1024**3,1), 'GB')"
      ]
    },
    {
      "cell_type": "markdown",
      "metadata": {
        "id": "-wVIFjmb-CJI"
      },
      "source": [
        "**DO NOT CHANGE**<br>\n",
        "To evaluate your implementation fairly, we set seed values for random sampling methods in PyTorch, Numpy, and Python random library. These seeds are set to evaluate your models successfully, so do not change these values."
      ]
    },
    {
      "cell_type": "code",
      "execution_count": 5,
      "metadata": {
        "id": "4NiPHoaY5q8G"
      },
      "outputs": [],
      "source": [
        "# for reproducable results\n",
        "torch.manual_seed(464)\n",
        "torch.cuda.manual_seed(464)\n",
        "np.random.seed(464)\n",
        "random.seed(464)\n",
        "if device.type == 'cuda':\n",
        "    torch.backends.cudnn.deterministic=True"
      ]
    },
    {
      "cell_type": "markdown",
      "metadata": {
        "id": "Bbgnyp5J4fMb"
      },
      "source": [
        "## Load Data [6 points]\n",
        "In this assignment, you will use a custom dataset, which you need a wrapper class to access its data. For this purpose, implement a custom dataset class to organize data with the specifications you need. This class will load batches of data using a PyTorch DataLoader later. The class signature of CustomDataset class is provided to you in the cell below, where you can implement your custom dataset.\n",
        "\n",
        "**IMPORTANT:** As you may have difficulties while fitting all images to your RAM, you need to read the images while getting that item (each item is an image here). We encourage you to read the data files in the \"__getitem__\" function to avoid encountering any issues related to fitting the data to memory. This way, you do not need to hold the dataset in a single variable, which would be memory intensive."
      ]
    },
    {
      "cell_type": "code",
      "execution_count": 6,
      "metadata": {
        "id": "iEgUvtFR8uY_"
      },
      "outputs": [
        {
          "name": "stdout",
          "output_type": "stream",
          "text": [
            "[300, 215, 253, 357]\n",
            "(tensor([[[ 88.,  87.,  87.,  ..., 176., 175., 172.],\n",
            "         [ 87.,  88.,  89.,  ..., 175., 174., 171.],\n",
            "         [ 87.,  90.,  92.,  ..., 172., 171., 170.],\n",
            "         ...,\n",
            "         [ 66.,  77.,  81.,  ..., 206., 196., 195.],\n",
            "         [ 84.,  81.,  83.,  ..., 208., 192., 194.],\n",
            "         [ 89.,  86.,  87.,  ..., 204., 189., 192.]],\n",
            "\n",
            "        [[156., 156., 155.,  ..., 194., 193., 190.],\n",
            "         [156., 156., 156.,  ..., 193., 192., 189.],\n",
            "         [158., 157., 156.,  ..., 190., 189., 188.],\n",
            "         ...,\n",
            "         [ 73.,  82.,  85.,  ..., 177., 172., 171.],\n",
            "         [ 88.,  85.,  84.,  ..., 179., 167., 170.],\n",
            "         [ 95.,  89.,  86.,  ..., 175., 164., 168.]],\n",
            "\n",
            "        [[205., 205., 206.,  ..., 206., 205., 202.],\n",
            "         [205., 205., 205.,  ..., 204., 203., 201.],\n",
            "         [208., 207., 201.,  ..., 200., 199., 198.],\n",
            "         ...,\n",
            "         [ 28.,  33.,  34.,  ..., 119., 112., 111.],\n",
            "         [ 38.,  32.,  30.,  ..., 121., 108., 110.],\n",
            "         [ 39.,  31.,  30.,  ..., 117., 105., 108.]]]), 0)\n"
          ]
        }
      ],
      "source": [
        "class CustomDataset(Dataset):\n",
        "    def __init__(self, data, labels, **kwargs):\n",
        "        self.labels = labels\n",
        "        self.args = kwargs\n",
        "        self.data = data\n",
        "        self.data_partition = []\n",
        "        self.len = 0\n",
        "        #count the number of files in the data subdirectories\n",
        "        for label in self.labels:\n",
        "            self.len += len(os.listdir(os.path.join(self.data, label)))\n",
        "            self.data_partition.append(len(os.listdir(os.path.join(self.data, label))))\n",
        "             \n",
        "    def __len__(self):\n",
        "        return self.len\n",
        "\n",
        "    def __getitem__(self, index):\n",
        "        i = 0\n",
        "        while index >= self.data_partition[i]:\n",
        "            index -= self.data_partition[i]\n",
        "            i += 1\n",
        "        img_name = os.listdir(os.path.join(self.data, self.labels[i]))[index]\n",
        "\n",
        "        img_name = os.path.join(self.data, self.labels[i], img_name)\n",
        "        img = Image.open(img_name)\n",
        "        img = img.convert('RGB')\n",
        "        img = img.resize((224, 224))\n",
        "        img = np.array(img)\n",
        "        \n",
        "        return  torch.tensor(img, dtype=torch.float32).permute(2,0,1) , i,\n",
        "\n",
        "\n",
        "d = CustomDataset(data='Multi-class Weather Dataset/', labels=['Cloudy', 'Rain', 'Shine', 'Sunrise'])\n",
        "print(d.data_partition)\n",
        "print(d.__getitem__(1))"
      ]
    },
    {
      "cell_type": "markdown",
      "metadata": {
        "id": "H5aZOFJwEc_-"
      },
      "source": [
        "You can implement an additional function to read and construct custom dataset objects for training, validation, and test sets. While constructing the dataset, consider the following issues:\n",
        "- Dataset contains images that end with prefixes *.jpg* and *.jpeg*.\n",
        "- If you use PIL to read images, you should convert them to \"RGB\" format to operate on three color channels.\n",
        "- Resize the dataset images to 224x224. You are going to design models that take images with tensor shape 224x224x3.\n",
        "- If you wish, you can change the ordering of the color channels with np.moveaxis function\n",
        "\n",
        "Lastly, the train-validation-test split for the dataset provided to you is 70-10-20 in terms of percentages. While constructing the dataset, remember that shuffling is a necessary step (to get randomly distributed classes across batches).\n",
        "\n",
        "You can design your dataset getter method compatible with the line provided below, where train_dataset, val_dataset, and test_dataset are all instances of CustomDataset."
      ]
    },
    {
      "cell_type": "code",
      "execution_count": 7,
      "metadata": {
        "id": "5icOihzMzqfe"
      },
      "outputs": [
        {
          "name": "stdout",
          "output_type": "stream",
          "text": [
            "1125\n"
          ]
        }
      ],
      "source": [
        "train_len = int(0.7 * d.__len__())\n",
        "val_len = int(0.1 * d.__len__())\n",
        "test_len = d.__len__() - train_len - val_len\n",
        "\n",
        "assert train_len + val_len + test_len == d.__len__()\n",
        "\n",
        "print(d.__len__())\n",
        "\n",
        "\n",
        "train_dataset, val_dataset, test_dataset = torch.utils.data.random_split(d, [train_len, val_len, test_len])"
      ]
    },
    {
      "cell_type": "markdown",
      "metadata": {
        "id": "ltjHllVn4juX"
      },
      "source": [
        "## Models [16 points]\n",
        "In this assignment, you will implement one CNN (Convolutional Neural Network) model and one FCN (Fully-Connected Network) model, where the class signatures are provided below."
      ]
    },
    {
      "cell_type": "markdown",
      "metadata": {
        "id": "VY-2PQauFJWn"
      },
      "source": [
        "### Convolutional Neural Network (CNN) Model [8 points]\n",
        "As the first model, you will implement a convolutional model. Your model will include 3 CONV + POOL blocks, which denotes one Convolutional layer followed by a Max Pooling Layer. The channel sizes for convolutional blocks are [16, 32, 64], respectively. For all convolutional layers, take kernel size as 3, stride as one, and apply padding such that convolutions do not change the shape on width and height dimensions. \n",
        "<br><br>\n",
        "Following the convolutional part, you will perform image classification for the dataset provided to you. You can use ReLU activation as the non-linearity in your model (except the classification layer)."
      ]
    },
    {
      "cell_type": "code",
      "execution_count": 154,
      "metadata": {
        "id": "C1yM9RoqAYh8"
      },
      "outputs": [],
      "source": [
        "class ConvNet(nn.Module):\n",
        "    '''Define your convolutional neural network'''\n",
        "    def __init__(self, **kwargs):\n",
        "        super(ConvNet, self).__init__()\n",
        "        self.model = nn.Sequential(\n",
        "            nn.Conv2d(3, 16, 3, 1, 1),\n",
        "            nn.MaxPool2d(2, 2),\n",
        "            nn.ReLU(),\n",
        "            nn.Conv2d(16, 32, 3, 1, 1),\n",
        "            nn.MaxPool2d(2, 2),\n",
        "            nn.ReLU(),\n",
        "            nn.Conv2d(32, 64, 3, 1, 1),\n",
        "            nn.MaxPool2d(2, 2),\n",
        "            nn.Flatten(),\n",
        "            nn.Linear(64*28*28, 128),\n",
        "            nn.ReLU(),\n",
        "            nn.Linear(128, 64),\n",
        "            nn.Linear(64, 4),\n",
        "            nn.Softmax(dim=1)\n",
        "        )\n",
        "        self.kwargs = kwargs\n",
        "\n",
        "\n",
        "     \n",
        "    def forward(self, x):\n",
        "        return self.model(x)\n"
      ]
    },
    {
      "cell_type": "markdown",
      "metadata": {
        "id": "b7plNvDmGmMO"
      },
      "source": [
        "### Fully Connected Network (FCN) Model [8 points]\n",
        "The second model you will try is a Fully Connected Network composed of Linear layers and non-linear activation functions connected to each other. For this part, the number of features for your linear layers is [1024, 512, 256]. Again, you can use ReLU as your non-linear activation function in your model (except the classification layer)."
      ]
    },
    {
      "cell_type": "code",
      "execution_count": 150,
      "metadata": {
        "id": "spwuuCJcb5H_"
      },
      "outputs": [],
      "source": [
        "class FCNet(nn.Module):\n",
        "    '''Define your full connected network'''\n",
        "    def __init__(self, **kwargs):\n",
        "        super(FCNet,self).__init__()\n",
        "        self.model = nn.Sequential(\n",
        "            nn.Linear(224*224*3, 1024),\n",
        "            nn.ReLU(),\n",
        "            nn.Linear(1024, 512),\n",
        "            nn.ReLU(),\n",
        "            nn.Linear(512, 256),\n",
        "            nn.ReLU(),\n",
        "            nn.Linear(256, 4),\n",
        "        )\n",
        "        self.kwargs = kwargs\n",
        "     \n",
        "    def forward(self, x):\n",
        "        x = x.view(x.size(0), -1)\n",
        "        return self.model(x)\n"
      ]
    },
    {
      "cell_type": "markdown",
      "metadata": {
        "id": "TAQDCw1AgAJV"
      },
      "source": [
        "## Training and Evaluation of FCN [22 points]\n",
        "\n",
        "Now that you implemented the model definition of CNN and FCN, you will train these models with the hyperparameters you chose. The hyperparameters that you may change are listed in the cell below. Using the FCN model defined, train a classifier that predicts weather condition classes specified by the dataset. For the optimizer, use [SGD](https://pytorch.org/docs/stable/generated/torch.optim.SGD.html) optimizer provided by PyTorch. You should try out different hyper-parameters like learning rates, epochs, momentum, and weight decay. For [momentum](https://machinelearningmastery.com/gradient-descent-with-momentum-from-scratch/) and [weight decay](https://paperswithcode.com/method/weight-decay), you can read about these concepts if you are interested.\n",
        "\n",
        "While training your model, save your best model over different epochs. You must select an appropriate metric to define the best model at a time step. You can implement the training procedure in the cell below. If you want to explain the reasoning behind your metric selection, you can add a markdown cell and provide your comments."
      ]
    },
    {
      "cell_type": "markdown",
      "metadata": {
        "id": "QMin6YgCgAJa"
      },
      "source": [
        "### Training [12 points]"
      ]
    },
    {
      "cell_type": "code",
      "execution_count": 152,
      "metadata": {
        "id": "bmV69xm_gAJa"
      },
      "outputs": [
        {
          "name": "stdout",
          "output_type": "stream",
          "text": [
            "Epoch 0\n",
            "Training Loss: 0.06459750411168139\n",
            "Training Accuracy: 43.202033036848796\n",
            "Test Accuracy: 63.392857142857146\n",
            "Epoch 1\n",
            "Training Loss: 0.012402772979178908\n",
            "Training Accuracy: 73.95171537484117\n",
            "Test Accuracy: 64.28571428571429\n",
            "Epoch 2\n",
            "Training Loss: 0.009735899928867286\n",
            "Training Accuracy: 76.49301143583227\n",
            "Test Accuracy: 73.21428571428571\n",
            "Epoch 3\n",
            "Training Loss: 0.008155358716220687\n",
            "Training Accuracy: 81.32147395171538\n",
            "Test Accuracy: 66.96428571428571\n",
            "Epoch 4\n",
            "Training Loss: 0.007852715090996429\n",
            "Training Accuracy: 80.81321473951715\n",
            "Test Accuracy: 75.0\n",
            "Epoch 5\n",
            "Training Loss: 0.006079071131564459\n",
            "Training Accuracy: 85.89580686149937\n",
            "Test Accuracy: 81.25\n",
            "Epoch 6\n",
            "Training Loss: 0.006679816746651142\n",
            "Training Accuracy: 83.86277001270648\n",
            "Test Accuracy: 77.67857142857143\n",
            "Epoch 7\n",
            "Training Loss: 0.00560051323952487\n",
            "Training Accuracy: 87.67471410419314\n",
            "Test Accuracy: 80.35714285714286\n",
            "Epoch 8\n"
          ]
        },
        {
          "ename": "KeyboardInterrupt",
          "evalue": "",
          "output_type": "error",
          "traceback": [
            "\u001b[0;31m---------------------------------------------------------------------------\u001b[0m",
            "\u001b[0;31mKeyboardInterrupt\u001b[0m                         Traceback (most recent call last)",
            "Cell \u001b[0;32mIn[152], line 70\u001b[0m\n\u001b[1;32m     68\u001b[0m \u001b[39mfor\u001b[39;00m epoch \u001b[39min\u001b[39;00m \u001b[39mrange\u001b[39m(max_epoch):\n\u001b[1;32m     69\u001b[0m     \u001b[39mprint\u001b[39m(\u001b[39mf\u001b[39m\u001b[39m\"\u001b[39m\u001b[39mEpoch \u001b[39m\u001b[39m{\u001b[39;00mepoch\u001b[39m}\u001b[39;00m\u001b[39m\"\u001b[39m) \n\u001b[0;32m---> 70\u001b[0m     trainer(train_loader, test_loader, model, loss, optimizer, loss_list, accuracy_list)\n\u001b[1;32m     71\u001b[0m     tester(test_loader, loss, model, loss_list, accuracy_list)\n",
            "Cell \u001b[0;32mIn[152], line 27\u001b[0m, in \u001b[0;36mtrainer\u001b[0;34m(trainDL, valDL, model, loss_function, optimizer, loss_list, accuracy_list)\u001b[0m\n\u001b[1;32m     25\u001b[0m loss \u001b[39m=\u001b[39m loss_function(output, labels)\n\u001b[1;32m     26\u001b[0m optimizer\u001b[39m.\u001b[39mzero_grad()\n\u001b[0;32m---> 27\u001b[0m loss\u001b[39m.\u001b[39;49mbackward()\n\u001b[1;32m     28\u001b[0m optimizer\u001b[39m.\u001b[39mstep()\n\u001b[1;32m     29\u001b[0m \u001b[39m#print the training accuracy    \u001b[39;00m\n",
            "File \u001b[0;32m/usr/local/lib/python3.10/site-packages/torch/_tensor.py:487\u001b[0m, in \u001b[0;36mTensor.backward\u001b[0;34m(self, gradient, retain_graph, create_graph, inputs)\u001b[0m\n\u001b[1;32m    477\u001b[0m \u001b[39mif\u001b[39;00m has_torch_function_unary(\u001b[39mself\u001b[39m):\n\u001b[1;32m    478\u001b[0m     \u001b[39mreturn\u001b[39;00m handle_torch_function(\n\u001b[1;32m    479\u001b[0m         Tensor\u001b[39m.\u001b[39mbackward,\n\u001b[1;32m    480\u001b[0m         (\u001b[39mself\u001b[39m,),\n\u001b[0;32m   (...)\u001b[0m\n\u001b[1;32m    485\u001b[0m         inputs\u001b[39m=\u001b[39minputs,\n\u001b[1;32m    486\u001b[0m     )\n\u001b[0;32m--> 487\u001b[0m torch\u001b[39m.\u001b[39;49mautograd\u001b[39m.\u001b[39;49mbackward(\n\u001b[1;32m    488\u001b[0m     \u001b[39mself\u001b[39;49m, gradient, retain_graph, create_graph, inputs\u001b[39m=\u001b[39;49minputs\n\u001b[1;32m    489\u001b[0m )\n",
            "File \u001b[0;32m/usr/local/lib/python3.10/site-packages/torch/autograd/__init__.py:197\u001b[0m, in \u001b[0;36mbackward\u001b[0;34m(tensors, grad_tensors, retain_graph, create_graph, grad_variables, inputs)\u001b[0m\n\u001b[1;32m    192\u001b[0m     retain_graph \u001b[39m=\u001b[39m create_graph\n\u001b[1;32m    194\u001b[0m \u001b[39m# The reason we repeat same the comment below is that\u001b[39;00m\n\u001b[1;32m    195\u001b[0m \u001b[39m# some Python versions print out the first line of a multi-line function\u001b[39;00m\n\u001b[1;32m    196\u001b[0m \u001b[39m# calls in the traceback and some print out the last line\u001b[39;00m\n\u001b[0;32m--> 197\u001b[0m Variable\u001b[39m.\u001b[39;49m_execution_engine\u001b[39m.\u001b[39;49mrun_backward(  \u001b[39m# Calls into the C++ engine to run the backward pass\u001b[39;49;00m\n\u001b[1;32m    198\u001b[0m     tensors, grad_tensors_, retain_graph, create_graph, inputs,\n\u001b[1;32m    199\u001b[0m     allow_unreachable\u001b[39m=\u001b[39;49m\u001b[39mTrue\u001b[39;49;00m, accumulate_grad\u001b[39m=\u001b[39;49m\u001b[39mTrue\u001b[39;49;00m)\n",
            "\u001b[0;31mKeyboardInterrupt\u001b[0m: "
          ]
        }
      ],
      "source": [
        "#HINT: note that your training time should not take many days.\n",
        "\n",
        "#TODO:\n",
        "#Pick your hyper parameters\n",
        "max_epoch = 100\n",
        "train_batch = 64\n",
        "test_batch = 64\n",
        "learning_rate = 1e-5\n",
        "momentum = 0.5\n",
        "weight_decay = 5e-04\n",
        "model = FCNet()\n",
        "optimizer = optim.SGD(model.parameters(), lr=learning_rate, momentum=momentum, weight_decay=weight_decay)\n",
        "loss = nn.CrossEntropyLoss()\n",
        "loss_list = []\n",
        "accuracy_list = []\n",
        "\n",
        "# TODO: training loop + eval\n",
        "#train method for one epoch \n",
        "def trainer(trainDL, valDL, model, loss_function, optimizer, loss_list, accuracy_list):\n",
        "        model.train()\n",
        "        correct = 0\n",
        "        training_loss = 0\n",
        "        for (data, labels) in trainDL:\n",
        "            output = model(data)\n",
        "            loss = loss_function(output, labels)\n",
        "            optimizer.zero_grad()\n",
        "            loss.backward()\n",
        "            optimizer.step()\n",
        "            #print the training accuracy    \n",
        "            predicted = output.argmax(dim = 1, keepdim=True).squeeze()\n",
        "            training_loss += loss.item()\n",
        "            correct += (predicted == labels).type(torch.float).sum().item()\n",
        "        training_loss /= len(trainDL.dataset)\n",
        "        loss_list.append(training_loss)\n",
        "        accuracy_list.append(100. * correct / len(trainDL.dataset))\n",
        "        print(f\"Training Loss: {training_loss}\")\n",
        "        print(f\"Training Accuracy: {100. * correct / len(trainDL.dataset)}\")\n",
        "        return loss_list, accuracy_list\n",
        "        \n",
        "\n",
        "\n",
        "#eval method for one epoch\n",
        "def tester(testDL, loss_function, model, loss_list, accuracy_list):\n",
        "    model.eval()\n",
        "    total = 0\n",
        "    correct = 0\n",
        "    loss = 0\n",
        "    with torch.inference_mode():\n",
        "        for i, (data, labels) in enumerate(testDL):\n",
        "            output = model(data)\n",
        "            loss += loss_function(output, labels)\n",
        "            predicted = output.argmax(dim = 1, keepdim=True).squeeze()\n",
        "            correct += (predicted == labels).type(torch.float).sum().item()\n",
        "        loss /= len(testDL.dataset)\n",
        "        loss_list.append(loss)\n",
        "        accuracy_list.append(100. * correct / len(testDL.dataset))\n",
        "        print(f\"Test Accuracy: {100. * correct / len(testDL.dataset)}\")\n",
        "    return loss_list, accuracy_list\n",
        "\n",
        "train_loader = DataLoader(train_dataset, batch_size=train_batch, shuffle=True)\n",
        "test_loader = DataLoader(val_dataset, batch_size=test_batch, shuffle=True)\n",
        "\n",
        "loss_list_train = []\n",
        "accuracy_list_train = []\n",
        "loss_list_val = []\n",
        "accuracy_list_val = []\n",
        "\n",
        "for epoch in range(max_epoch):\n",
        "    print(f\"Epoch {epoch}\") \n",
        "    trainer(train_loader, test_loader, model, loss, optimizer, loss_list, accuracy_list)\n",
        "    tester(test_loader, loss, model, loss_list, accuracy_list)\n",
        "\n",
        "\n"
      ]
    },
    {
      "cell_type": "markdown",
      "metadata": {
        "id": "AerO0TZ0gAJa"
      },
      "source": [
        "### Learning Process Analysis [5 points]\n",
        "Following the training step, you will now provide accuracy and loss plots over all epochs. For this, provide two plots:\n",
        "- In the first plot, you will provide the value of the accuracy metric over epochs. Your plot should include two curves, one for the training set and the other for the validation set.\n",
        "- For the second plot, provide the curve for loss values over epochs. Again your plot should include two curves, where one indicates loss on the training set and the second indicates loss for the validation set."
      ]
    },
    {
      "cell_type": "code",
      "execution_count": 77,
      "metadata": {
        "id": "iiXtRpe9RI11"
      },
      "outputs": [],
      "source": [
        "plt.plot(loss_list_train)\n",
        "plt.title(\"Loss Train\")\n",
        "plt.show()\n",
        "plt.plot(accuracy_list_train)\n",
        "plt.title(\"Accuracy Train\")\n",
        "plt.show()\n",
        "plt.plot(loss_list_val)\n",
        "plt.title(\"Loss Val\")\n",
        "plt.show()\n",
        "plt.plot(accuracy_list_val)\n",
        "plt.title(\"Accuracy Val\")\n",
        "plt.show()"
      ]
    },
    {
      "cell_type": "markdown",
      "metadata": {
        "id": "y0ZcDuLQQysp"
      },
      "source": [
        "### Test [5 points]\n",
        "As the final step of your analysis, you will test your model using some metrics. For the best model you obtained during training, evaluate your model on the test set. Then, report the confusion matrix. Finally, report accuracy, precision, recall, and $F_1$ score using your model. Report all these metrics using the macro form (macro precision, macro recall, etc.). You can implement these metrics in the cell below. "
      ]
    },
    {
      "cell_type": "code",
      "execution_count": 1,
      "metadata": {
        "id": "ptAiYhAIR6O5"
      },
      "outputs": [
        {
          "ename": "NameError",
          "evalue": "name 'DataLoader' is not defined",
          "output_type": "error",
          "traceback": [
            "\u001b[0;31m---------------------------------------------------------------------------\u001b[0m",
            "\u001b[0;31mNameError\u001b[0m                                 Traceback (most recent call last)",
            "Cell \u001b[0;32mIn[1], line 1\u001b[0m\n\u001b[0;32m----> 1\u001b[0m test_loader \u001b[39m=\u001b[39m DataLoader(test_dataset, batch_size\u001b[39m=\u001b[39mtest_batch, shuffle\u001b[39m=\u001b[39m\u001b[39mTrue\u001b[39;00m)\n\u001b[1;32m      2\u001b[0m y_pred \u001b[39m=\u001b[39m np\u001b[39m.\u001b[39marray([])\n\u001b[1;32m      3\u001b[0m y_true \u001b[39m=\u001b[39m np\u001b[39m.\u001b[39marray([])\n",
            "\u001b[0;31mNameError\u001b[0m: name 'DataLoader' is not defined"
          ]
        }
      ],
      "source": [
        "test_loader = DataLoader(test_dataset, batch_size=test_batch, shuffle=True)\n",
        "y_pred = np.array([])\n",
        "y_true = np.array([])\n",
        "for i, (data, labels) in enumerate(test_loader):\n",
        "    output = model(data)\n",
        "    predicted = output.argmax(dim = 1, keepdim=True).squeeze()\n",
        "    y_pred = np.append(y_pred, predicted)\n",
        "    y_true = np.append(y_true, labels)\n",
        "\n",
        "#TODO: print f1 score macro precision and recall and accuracy\n",
        "print(f1_score(y_true, y_pred, average='macro'))\n",
        "print(precision_score(y_true, y_pred, average='macro'))\n",
        "print(recall_score(y_true, y_pred, average='macro'))\n",
        "print(accuracy_score(y_true, y_pred))\n",
        "\n",
        "#TODO: print confusion matrix as a heatmap\n",
        "conf_mat = confusion_matrix(y_true, y_pred)\n",
        "sns.heatmap(conf_mat, annot=True, fmt='d',\n",
        "            xticklabels=[\"Cloudy\",\"Rainy\", \"Shine\", \"Sunrise\"], yticklabels=[\"Cloudy\",\"Rainy\", \"Shine\", \"Sunrise\"])\n",
        "plt.ylabel('Actual')\n",
        "plt.xlabel('Predicted')\n",
        "plt.show()\n",
        "\n",
        "\n",
        "\n",
        "\n",
        "\n"
      ]
    },
    {
      "cell_type": "markdown",
      "metadata": {
        "id": "fVgI--N4B7lR"
      },
      "source": [
        "## Training and evaluation of CNN [22 points]\n",
        "Similar to the FCN model, you will now train the CNN model that you defined before. Again you are free to try out different hyperparameters. This model also will classify weather images with the four classes provided by the dataset. As the optimizer, again, use the SGD implementation provided by PyTorch. You can implement the training loop in the following cell. \n",
        "\n",
        "Similar to the training procedure, you need to save the best model you obtain during training. Select an appropriate criterion (metric) to save the best model. If you wish, you can add a markdown cell to explain your reasoning."
      ]
    },
    {
      "cell_type": "markdown",
      "metadata": {
        "id": "mw1OF9Fl42Bc"
      },
      "source": [
        "### Training [12 points]"
      ]
    },
    {
      "cell_type": "code",
      "execution_count": 155,
      "metadata": {},
      "outputs": [
        {
          "name": "stdout",
          "output_type": "stream",
          "text": [
            "Epoch 0\n",
            "Training Loss: 0.025168324365094776\n",
            "Training Accuracy: 22.36340533672173\n",
            "Test Accuracy: 18.75\n",
            "Epoch 1\n",
            "Training Loss: 0.025207460911180042\n",
            "Training Accuracy: 21.092757306226176\n",
            "Test Accuracy: 23.214285714285715\n",
            "Epoch 2\n",
            "Training Loss: 0.024963234855380417\n",
            "Training Accuracy: 19.82210927573062\n",
            "Test Accuracy: 33.035714285714285\n",
            "Epoch 3\n",
            "Training Loss: 0.020730376395064358\n",
            "Training Accuracy: 48.03049555273189\n",
            "Test Accuracy: 49.107142857142854\n",
            "Epoch 4\n",
            "Training Loss: 0.019894182000408635\n",
            "Training Accuracy: 51.715374841168995\n",
            "Test Accuracy: 49.107142857142854\n",
            "Epoch 5\n",
            "Training Loss: 0.018938883438498123\n",
            "Training Accuracy: 58.95806861499365\n",
            "Test Accuracy: 62.5\n",
            "Epoch 6\n",
            "Training Loss: 0.01793161348890622\n",
            "Training Accuracy: 67.34434561626429\n",
            "Test Accuracy: 63.392857142857146\n",
            "Epoch 7\n",
            "Training Loss: 0.016991071204218205\n",
            "Training Accuracy: 72.29987293519694\n",
            "Test Accuracy: 58.035714285714285\n",
            "Epoch 8\n",
            "Training Loss: 0.01744383952214727\n",
            "Training Accuracy: 67.72554002541295\n",
            "Test Accuracy: 62.5\n",
            "Epoch 9\n",
            "Training Loss: 0.017109844933016632\n",
            "Training Accuracy: 71.2833545108005\n",
            "Test Accuracy: 58.92857142857143\n",
            "Epoch 10\n",
            "Training Loss: 0.016853855555969393\n",
            "Training Accuracy: 71.41041931385007\n",
            "Test Accuracy: 61.607142857142854\n",
            "Epoch 11\n",
            "Training Loss: 0.016822658545483173\n",
            "Training Accuracy: 73.18932655654383\n",
            "Test Accuracy: 63.392857142857146\n",
            "Epoch 12\n",
            "Training Loss: 0.016712215379959747\n",
            "Training Accuracy: 73.82465057179161\n",
            "Test Accuracy: 66.07142857142857\n",
            "Epoch 13\n"
          ]
        }
      ],
      "source": [
        "max_epoch = 100\n",
        "train_batch = 64\n",
        "test_batch = 64\n",
        "learning_rate = 5e-4\n",
        "momentum = 0.5\n",
        "weight_decay = 5e-04\n",
        "model = ConvNet()\n",
        "optimizer = optim.SGD(model.parameters(), lr=learning_rate, momentum=momentum, weight_decay=weight_decay)\n",
        "loss = nn.CrossEntropyLoss()\n",
        "\n",
        "loss_list_train = []\n",
        "accuracy_list_train = []\n",
        "loss_list_val = []\n",
        "accuracy_list_val = []\n",
        "train_loader = DataLoader(train_dataset, batch_size=train_batch, shuffle=True)\n",
        "test_loader = DataLoader(val_dataset, batch_size=test_batch, shuffle=True)\n",
        "\n",
        "for epoch in range(max_epoch):\n",
        "    print(f\"Epoch {epoch}\")\n",
        "    trainer(train_loader, test_loader, model, loss, optimizer, loss_list, accuracy_list)\n",
        "    tester(test_loader, loss, model, loss_list, accuracy_list)\n"
      ]
    },
    {
      "cell_type": "markdown",
      "metadata": {
        "id": "vOiPy1hI44gy"
      },
      "source": [
        "### Learning Process Analysis [3 points]\n",
        "Repeating the same procedure you applied for the FCN model; you will provide two plots about how your training proceeds over epochs. Again, provide two plots: one summarizes the loss values, and the other summarizes the accuracy values. Note that each plot needs to include two curves, one for the validation set and the other for the training set."
      ]
    },
    {
      "cell_type": "code",
      "execution_count": 79,
      "metadata": {
        "id": "lFwAi_zPelX6"
      },
      "outputs": [],
      "source": [
        "plt.plot(loss_list_train)\n",
        "plt.title(\"Loss Train\")\n",
        "plt.show()\n",
        "plt.plot(accuracy_list_train)\n",
        "plt.title(\"Accuracy Train\")\n",
        "plt.show()\n",
        "plt.plot(loss_list_val)\n",
        "plt.title(\"Loss Val\")\n",
        "plt.show()\n",
        "plt.plot(accuracy_list_val)\n",
        "plt.title(\"Accuracy Val\")\n",
        "plt.show()"
      ]
    },
    {
      "cell_type": "markdown",
      "metadata": {
        "id": "2Ccx_9g54-GS"
      },
      "source": [
        "### Test [4 points]\n",
        "Concluding your analysis, report the confusion matrix for the best model you obtained during your CNN model training. Then using this confusion matrix, report accuracy, recall, precision, and $F_1$ score for your best model. Use macro averaging in all of your metrics."
      ]
    },
    {
      "cell_type": "code",
      "execution_count": 80,
      "metadata": {
        "id": "t7USNWHYemYo"
      },
      "outputs": [],
      "source": [
        "test_loader = DataLoader(test_dataset, batch_size=test_batch, shuffle=True)\n",
        "y_pred = np.array([])\n",
        "y_true = np.array([])\n",
        "for i, (data, labels) in enumerate(test_loader):\n",
        "    output = model(data)\n",
        "    predicted = output.argmax(dim = 1, keepdim=True).squeeze()\n",
        "    y_pred = np.append(y_pred, predicted)\n",
        "    y_true = np.append(y_true, labels)\n",
        "\n",
        "#TODO: print f1 score macro precision and recall and accuracy\n",
        "print(f1_score(y_true, y_pred, average='macro'))\n",
        "print(precision_score(y_true, y_pred, average='macro'))\n",
        "print(recall_score(y_true, y_pred, average='macro'))\n",
        "print(accuracy_score(y_true, y_pred))\n",
        "\n",
        "#TODO: print confusion matrix as a heatmap\n",
        "conf_mat = confusion_matrix(y_true, y_pred)\n",
        "sns.heatmap(conf_mat, annot=True, fmt='d',\n",
        "            xticklabels=[\"Cloudy\",\"Rainy\", \"Shine\", \"Sunrise\"], yticklabels=[\"Cloudy\",\"Rainy\", \"Shine\", \"Sunrise\"])\n",
        "plt.ylabel('Actual')\n",
        "plt.xlabel('Predicted')\n",
        "plt.show()"
      ]
    },
    {
      "cell_type": "markdown",
      "metadata": {
        "id": "vPK3UZ9besKr"
      },
      "source": [
        "### Discussion [3 points]\n",
        "Now, try to compare the two models that you trained. How different are these two models regarding the number of parameters used?\n",
        "\n",
        "Explain your findings by connecting them with your experimental results. You can include your comments on a separate Markdown cell or below the question statement."
      ]
    },
    {
      "cell_type": "markdown",
      "metadata": {
        "id": "RaSufbDNrt_H"
      },
      "source": [
        "## Transfer Learning [22 points]\n",
        "\n",
        "As the last part of this assignment, you will practice transfer learning. In this methodology, we aim to use models trained on large-scale datasets for our task. As we do not have access to large datasets and computational resources all the time, we sometimes try to use already trained models (on other datasets) as a good starting point for our model, and then fine-tune the weights considering our task.  \n",
        "\n",
        "Torchvision library provides numerous models pretrained for specific tasks. [Here](https://pytorch.org/vision/stable/models.html), you can find a list of pretrained models. For this part, you will include [ResNet](https://arxiv.org/abs/1512.03385)-18 model, pretrained with ImageNet dataset. ImageNet is a large dataset where training from scratch would take a long time. You will fine-tune this pretrained module for your task. \n",
        "<br>\n",
        "**Hint:** You can add a Linear layer to adapt the model to the number of classes needed for your task. You can access the number of inputs to the ResNet-18 model as $\\texttt{model.fc.in_features}$ and then modify the fully connected layer of the model $\\texttt{model.fc}$.\n",
        "<br>\n",
        "\n",
        "Using the ResNet-18 backbone, implement this model's training loop (by adapting it to your task). You can implement the training procedure in the cell provided below. Again save your model based on a criterion indicating the best model. Explain the reasoning for your criteria. Use the SGD optimizer provided by PyTorch to optimize your model.\n",
        "\n",
        "Just like the previous parts, you can also tune your hyperparameters to optimize your model's performance. "
      ]
    },
    {
      "cell_type": "markdown",
      "metadata": {
        "id": "s1O0rHumXDob"
      },
      "source": [
        "###Training [12 points]"
      ]
    },
    {
      "cell_type": "code",
      "execution_count": 117,
      "metadata": {
        "id": "V6Fvqilcrz10"
      },
      "outputs": [
        {
          "name": "stdout",
          "output_type": "stream",
          "text": [
            "Epoch: 0\n",
            "Training Loss: 0.018583668914198725\n",
            "Training Accuracy: 54.89199491740788\n",
            "Test Accuracy: 67.85714285714286\n",
            "Epoch: 1\n",
            "Training Loss: 0.01282315598055247\n",
            "Training Accuracy: 80.55908513341804\n",
            "Test Accuracy: 82.14285714285714\n",
            "Epoch: 2\n",
            "Training Loss: 0.009943156412020421\n",
            "Training Accuracy: 89.1994917407878\n",
            "Test Accuracy: 82.14285714285714\n",
            "Epoch: 3\n",
            "Training Loss: 0.008174834552835176\n",
            "Training Accuracy: 91.10546378653113\n",
            "Test Accuracy: 88.39285714285714\n",
            "Epoch: 4\n",
            "Training Loss: 0.006903631297878571\n",
            "Training Accuracy: 93.01143583227446\n",
            "Test Accuracy: 90.17857142857143\n",
            "Epoch: 5\n",
            "Training Loss: 0.006221946267342476\n",
            "Training Accuracy: 93.26556543837357\n",
            "Test Accuracy: 92.85714285714286\n",
            "Epoch: 6\n",
            "Training Loss: 0.005738676238090292\n",
            "Training Accuracy: 93.64675984752223\n",
            "Test Accuracy: 94.64285714285714\n",
            "Epoch: 7\n",
            "Training Loss: 0.005318729100415183\n",
            "Training Accuracy: 93.90088945362135\n",
            "Test Accuracy: 90.17857142857143\n",
            "Epoch: 8\n",
            "Training Loss: 0.004587979582546627\n",
            "Training Accuracy: 95.1715374841169\n",
            "Test Accuracy: 95.53571428571429\n",
            "Epoch: 9\n",
            "Training Loss: 0.004425103017608274\n",
            "Training Accuracy: 95.55273189326556\n",
            "Test Accuracy: 91.96428571428571\n"
          ]
        }
      ],
      "source": [
        "#HINT: note that your training time should not take many days.\n",
        "\n",
        "#TODO:\n",
        "#Pick your hyper parameters\n",
        "max_epoch = 10\n",
        "train_batch = 64\n",
        "test_batch = 64\n",
        "learning_rate = 9e-3\n",
        "weight_decay = 5e-04\n",
        "\n",
        "# TODO: Implement training loop + eval using ResNet-18 model\n",
        "model = models.resnet18(pretrained=True)\n",
        "for params in model.parameters():\n",
        "    params.requires_grad = False\n",
        "\n",
        "model.fc = nn.Linear(512, 4)\n",
        "\n",
        "\n",
        "model.to(device)\n",
        "\n",
        "optimizer = optim.SGD(model.parameters(), lr=learning_rate, weight_decay=weight_decay)\n",
        "loss = nn.CrossEntropyLoss()\n",
        "train_loader = DataLoader(train_dataset, batch_size=train_batch, shuffle=True)\n",
        "test_loader = DataLoader(test_dataset, batch_size=test_batch, shuffle=True)\n",
        "val_loader = DataLoader(val_dataset, batch_size=test_batch, shuffle=True)\n",
        "loss_list_train = []\n",
        "accuracy_list_train = []\n",
        "loss_list_val = []\n",
        "accuracy_list_val = []\n",
        "\n",
        "for epoch in range(max_epoch):\n",
        "    print(f\"Epoch: {epoch}\")\n",
        "    trainer(train_loader, val_loader, model, loss, optimizer, loss_list_train, accuracy_list_train)\n",
        "    tester(val_loader, loss, model, loss_list_val, accuracy_list_val)\n",
        "\n",
        "\n"
      ]
    },
    {
      "cell_type": "markdown",
      "metadata": {
        "id": "LW2aqaDEXFds"
      },
      "source": [
        "###Learning Process Analysis [3 points]\n",
        "After training your model, provide two plots summarizing the learning procedure. Like previous parts, you will provide plots for loss value and accuracy progression over epochs. Remember that for each plot, you need to include two curves (one for the training set and one for the validation set)."
      ]
    },
    {
      "cell_type": "code",
      "execution_count": 118,
      "metadata": {
        "id": "esWBPBmdlqlA"
      },
      "outputs": [
        {
          "data": {
            "image/png": "[encoded data removed]",
            "text/plain": [
              "<Figure size 640x480 with 1 Axes>"
            ]
          },
          "metadata": {},
          "output_type": "display_data"
        },
        {
          "data": {
            "image/png": "[encoded data removed]",
            "text/plain": [
              "<Figure size 640x480 with 1 Axes>"
            ]
          },
          "metadata": {},
          "output_type": "display_data"
        },
        {
          "data": {
            "image/png": "[encoded data removed]",
            "text/plain": [
              "<Figure size 640x480 with 1 Axes>"
            ]
          },
          "metadata": {},
          "output_type": "display_data"
        },
        {
          "data": {
            "image/png": "[encoded data removed]",
            "text/plain": [
              "<Figure size 640x480 with 1 Axes>"
            ]
          },
          "metadata": {},
          "output_type": "display_data"
        }
      ],
      "source": [
        "plt.plot(loss_list_train)\n",
        "plt.title(\"Loss Train\")\n",
        "plt.show()\n",
        "plt.plot(accuracy_list_train)\n",
        "plt.title(\"Accuracy Train\")\n",
        "plt.show()\n",
        "plt.plot(loss_list_val)\n",
        "plt.title(\"Loss Val\")\n",
        "plt.show()\n",
        "plt.plot(accuracy_list_val)\n",
        "plt.title(\"Accuracy Val\")\n",
        "plt.show()\n"
      ]
    },
    {
      "cell_type": "markdown",
      "metadata": {
        "id": "o4Y-Qs33XH_G"
      },
      "source": [
        "### Test [4 points]\n",
        "Following your analysis, report the confusion matrix for the best model you obtained (with the criteria you defined). Then, report the accuracy, precision, recall and $F_1$ score for the best model. In all of the metrics, use macro averaging."
      ]
    },
    {
      "cell_type": "code",
      "execution_count": 130,
      "metadata": {
        "id": "bsZbLlOD5SvJ"
      },
      "outputs": [
        {
          "name": "stdout",
          "output_type": "stream",
          "text": [
            "0.9318032800159648\n",
            "0.9354886372302296\n",
            "0.9292888512291652\n",
            "0.9336283185840708\n"
          ]
        },
        {
          "data": {
            "image/png": "[encoded data removed]",
            "text/plain": [
              "<Figure size 640x480 with 2 Axes>"
            ]
          },
          "metadata": {},
          "output_type": "display_data"
        }
      ],
      "source": [
        "test_loader = DataLoader(test_dataset, batch_size=test_batch, shuffle=True)\n",
        "y_pred = np.array([])\n",
        "y_true = np.array([])\n",
        "for i, (data, labels) in enumerate(test_loader):\n",
        "    output = model(data)\n",
        "    predicted = output.argmax(dim = 1, keepdim=True).squeeze()\n",
        "    y_pred = np.append(y_pred, predicted)\n",
        "    y_true = np.append(y_true, labels)\n",
        "\n",
        "#TODO: print f1 score macro precision and recall and accuracy\n",
        "print(f1_score(y_true, y_pred, average='macro'))\n",
        "print(precision_score(y_true, y_pred, average='macro'))\n",
        "print(recall_score(y_true, y_pred, average='macro'))\n",
        "print(accuracy_score(y_true, y_pred))\n",
        "\n",
        "#TODO: print confusion matrix as a heatmap\n",
        "conf_mat = confusion_matrix(y_true, y_pred)\n",
        "sns.heatmap(conf_mat, annot=True, fmt='d',\n",
        "            xticklabels=[\"Cloudy\",\"Rainy\", \"Shine\", \"Sunrise\"], yticklabels=[\"Cloudy\",\"Rainy\", \"Shine\", \"Sunrise\"])\n",
        "plt.ylabel('Actual')\n",
        "plt.xlabel('Predicted')\n",
        "plt.show()"
      ]
    },
    {
      "cell_type": "markdown",
      "metadata": {
        "id": "47uwNm3NmJDB"
      },
      "source": [
        "### Discussion [3 points]\n",
        "Now discuss the effectiveness of Transfer Learning. How does it improve performance?  "
      ]
    },
    {
      "attachments": {},
      "cell_type": "markdown",
      "metadata": {},
      "source": [
        "As it can be seen, transfer learning has made better performance in terms of accuracy. This happened due to 2 reasons. First reason is that resnet model has a more complex internal neural network architecture compared to our 2 models. Also, as the model is pretrained, its starting weights are more optimized. This creates a better starting point compared to our own models. The combination of better starting point and more optimized weights yields into more efficient performance."
      ]
    },
    {
      "cell_type": "markdown",
      "metadata": {
        "id": "23y1QPvOVDIF"
      },
      "source": [
        "# References\n",
        "[1] Ajayi, Gbeminiyi (2018), “Multi-class Weather Dataset for Image Classification”, Mendeley Data, V1, doi: 10.17632/4drtyfjtfy.1"
      ]
    }
  ],
  "metadata": {
    "accelerator": "GPU",
    "colab": {
      "provenance": []
    },
    "kernelspec": {
      "display_name": "Python 3",
      "language": "python",
      "name": "python3"
    },
    "language_info": {
      "codemirror_mode": {
        "name": "ipython",
        "version": 3
      },
      "file_extension": ".py",
      "mimetype": "text/x-python",
      "name": "python",
      "nbconvert_exporter": "python",
      "pygments_lexer": "ipython3",
      "version": "3.10.8 (main, Oct 13 2022, 10:17:43) [Clang 14.0.0 (clang-1400.0.29.102)]"
    },
    "vscode": {
      "interpreter": {
        "hash": "aee8b7b246df8f9039afb4144a1f6fd8d2ca17a180786b69acc140d282b71a49"
      }
    }
  },
  "nbformat": 4,
  "nbformat_minor": 0
}
